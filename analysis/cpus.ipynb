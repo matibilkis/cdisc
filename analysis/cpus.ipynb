{
 "cells": [
  {
   "cell_type": "code",
   "execution_count": 1,
   "id": "c908223d-b9b6-4073-88f0-3d220cb3ccf3",
   "metadata": {},
   "outputs": [],
   "source": [
    "import os\n",
    "import numpy as np\n",
    "os.chdir(\"../..\")\n"
   ]
  },
  {
   "cell_type": "code",
   "execution_count": 13,
   "id": "63d26848-204f-4ef5-8abf-cdff6a710aa3",
   "metadata": {},
   "outputs": [],
   "source": [
    "cpus = []\n",
    "for ii in range(1, 501):\n",
    "    with open(\"jobs/outs/cpu{}.out\".format(ii), \"r\") as f:\n",
    "        cpus.append(int(f.readlines()[0].strip()))\n",
    "    f.close()"
   ]
  },
  {
   "cell_type": "code",
   "execution_count": 19,
   "id": "05f02bc0-2abc-4eb5-9433-03d12616355e",
   "metadata": {},
   "outputs": [
    {
     "data": {
      "text/plain": [
       "(array([ 29,   0,   0,   0, 454,   0,   0,   0,   0,  17]),\n",
       " array([12. , 16.4, 20.8, 25.2, 29.6, 34. , 38.4, 42.8, 47.2, 51.6, 56. ]))"
      ]
     },
     "execution_count": 19,
     "metadata": {},
     "output_type": "execute_result"
    }
   ],
   "source": [
    "np.histogram(cpus)"
   ]
  },
  {
   "cell_type": "code",
   "execution_count": null,
   "id": "0cc790ab-619a-4ab2-9f77-b36975dc746f",
   "metadata": {},
   "outputs": [],
   "source": []
  }
 ],
 "metadata": {
  "kernelspec": {
   "display_name": "qenv_bilkis",
   "language": "python",
   "name": "qenv_bilkis"
  },
  "language_info": {
   "codemirror_mode": {
    "name": "ipython",
    "version": 3
   },
   "file_extension": ".py",
   "mimetype": "text/x-python",
   "name": "python",
   "nbconvert_exporter": "python",
   "pygments_lexer": "ipython3",
   "version": "3.6.8"
  }
 },
 "nbformat": 4,
 "nbformat_minor": 5
}
