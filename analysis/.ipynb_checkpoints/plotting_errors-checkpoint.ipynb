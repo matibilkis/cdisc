{
 "cells": [
  {
   "cell_type": "code",
   "execution_count": 1,
   "id": "92675f3d-dbf8-4686-9af0-e2545312a540",
   "metadata": {},
   "outputs": [],
   "source": [
    "import os\n",
    "os.chdir(\"..\")\n"
   ]
  },
  {
   "cell_type": "code",
   "execution_count": 2,
   "id": "50da7aaf-580a-4c43-8bbd-9e931c1368b4",
   "metadata": {},
   "outputs": [],
   "source": [
    "%load_ext autoreload\n",
    "%autoreload 2\n",
    "\n",
    "from numerics.utilities.misc import *\n",
    "import numpy as np\n",
    "from tqdm import tqdm\n",
    "import matplotlib.pyplot as plt\n",
    "import pickle\n"
   ]
  },
  {
   "cell_type": "code",
   "execution_count": 5,
   "id": "aa14341e-142c-4781-91c8-02f42bbeb31b",
   "metadata": {},
   "outputs": [],
   "source": [
    "path_dir = get_def_path()+\"sweep_gamma/\"\n",
    "with open(path_dir+\"dict_errors_gamma_bonudsB.pickle\",\"rb\") as g:\n",
    "    gdit = pickle.load(g)#, protocol=pickle.HIGHEST_PROTOCOL)"
   ]
  },
  {
   "cell_type": "code",
   "execution_count": 6,
   "id": "2adf426a-ecb9-4a22-96ad-2e395fe3af15",
   "metadata": {},
   "outputs": [],
   "source": [
    "timbins1 = gdit[\"timbins1\"]\n",
    "timbins0 = gdit[\"timbins0\"]\n",
    "counts0= gdit[\"counts0\"]\n",
    "counts1 = gdit[\"counts1\"]\n",
    "goods1 = gdit[\"goods1\"]  \n",
    "goods0 =  gdit[\"goods0\"]\n",
    "poors1 = gdit[\"poors1\"]\n",
    "poors0 = gdit[\"poors0\"]"
   ]
  },
  {
   "cell_type": "code",
   "execution_count": null,
   "id": "16ab7742-1afc-4fde-8080-34ca44cdc426",
   "metadata": {},
   "outputs": [],
   "source": [
    "B = 8.\n",
    "dB = .2\n",
    "boundsB= np.arange(-B,B+dB,dB)\n",
    "\n",
    "bpos = boundsB[boundsB>=0]\n",
    "bneg = boundsB[boundsB<0]\n"
   ]
  },
  {
   "cell_type": "code",
   "execution_count": null,
   "id": "fc872a0d-7d54-4811-a604-cf1727717d5a",
   "metadata": {},
   "outputs": [],
   "source": [
    "gammas = np.linspace(110, 10000., 32)\n"
   ]
  },
  {
   "cell_type": "code",
   "execution_count": null,
   "id": "5d3ea607-1fd9-4b10-b3fd-f597b9068a66",
   "metadata": {},
   "outputs": [],
   "source": [
    "diffs = {}\n",
    "for g in gammas[1:]:\n",
    "    diffs[g] = [np.mean(np.square(np.array(counts0[g][indb]) - np.array(goods0[g][indb]))) for indb in range(len(bpos))]"
   ]
  }
 ],
 "metadata": {
  "kernelspec": {
   "display_name": "qenv_bilkis",
   "language": "python",
   "name": "qenv_bilkis"
  },
  "language_info": {
   "codemirror_mode": {
    "name": "ipython",
    "version": 3
   },
   "file_extension": ".py",
   "mimetype": "text/x-python",
   "name": "python",
   "nbconvert_exporter": "python",
   "pygments_lexer": "ipython3",
   "version": "3.6.8"
  }
 },
 "nbformat": 4,
 "nbformat_minor": 5
}
