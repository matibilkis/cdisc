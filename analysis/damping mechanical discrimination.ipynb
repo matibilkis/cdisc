{
 "cells": [
  {
   "cell_type": "code",
   "execution_count": 1,
   "id": "4578b278",
   "metadata": {},
   "outputs": [],
   "source": [
    "import os\n",
    "os.chdir(\"..\")\n"
   ]
  },
  {
   "cell_type": "code",
   "execution_count": 2,
   "id": "9b015540",
   "metadata": {},
   "outputs": [],
   "source": [
    "%load_ext autoreload\n",
    "%autoreload 2\n",
    "\n",
    "import numpy as np\n",
    "import matplotlib.pyplot as plt\n",
    "from numerics.utilities.misc import *\n",
    "import matplotlib\n",
    "from scipy.linalg import solve_continuous_are\n",
    "import pickle\n",
    "from tqdm import tqdm\n",
    "from analysis.misc import *\n",
    "\n",
    "\n",
    "params, exp_path = def_params(flip = 0)\n",
    "\n",
    "which = mode = give_model()\n",
    "if which == \"mechanical_damp\":\n",
    "    total_time = 4.\n",
    "    dt = 1e-5\n",
    "elif which == \"mechanical_freq\":\n",
    "    omega = .5*(params[1][1] + params[0][1])\n",
    "    T_param = 150.\n",
    "    ppg = 1e3\n",
    "    period = 2*np.pi/omega\n",
    "    total_time = T_param*period\n",
    "    dt = period/ppg\n",
    "elif (which == \"optical_homodyne\") or (which == \"optical_heterodyne\"):\n",
    "    damping = params[1][0]\n",
    "    total_time = 200.*damping\n",
    "    dt = damping/1e3\n",
    "\n",
    "timind, indis, indis_range = get_timind_indis(total_time, dt, rrange=True)\n",
    "\n"
   ]
  },
  {
   "cell_type": "code",
   "execution_count": 176,
   "id": "5d0f0f34",
   "metadata": {},
   "outputs": [],
   "source": [
    "with open(path_data+\"deter.pickle\",\"rb\") as f:\n",
    "   deter = pickle.load(f)#, protocol=pickle.HIGHEST_PROTOCOL)\n",
    "\n",
    "### load (just in case)\n",
    "timbin1 = np.load(path_data+\"timbin.npy\")\n",
    "timbin0 = np.load(path_data+\"timbin.npy\")#, timbin0)\n",
    "\n",
    "l0 = np.load(path_data+\"l0.npy\")\n",
    "l1 = np.load(path_data+\"l1.npy\")\n",
    "\n",
    "cons0 = np.load(path_data+\"cons0.npy\")\n",
    "cons1 = np.load(path_data+\"cons1.npy\")\n",
    "\n",
    "\n",
    "stoch = np.load(path_data+\"times_to_err_stoch.npy\")\n",
    "times_alpha_to_errB = np.load(path_data+\"times_to_err_det.npy\")"
   ]
  },
  {
   "cell_type": "code",
   "execution_count": 177,
   "id": "6011af1a",
   "metadata": {},
   "outputs": [],
   "source": [
    "log_lik_ratio, log_lik_ratio_swap = load_liks(itraj=1, total_time=total_time, dt=dt)"
   ]
  },
  {
   "cell_type": "code",
   "execution_count": 187,
   "id": "0bffa65e",
   "metadata": {},
   "outputs": [],
   "source": []
  },
  {
   "cell_type": "code",
   "execution_count": 385,
   "id": "3ee5f0ca",
   "metadata": {},
   "outputs": [
    {
     "name": "stderr",
     "output_type": "stream",
     "text": [
      "100%|█████████████████████████████████████████████████████████████████████████████████████████████████████████████████████████████████████████████████████████████████████████████████████████████████████████████████| 499/499 [00:07<00:00, 67.57it/s]\n"
     ]
    }
   ],
   "source": [
    "alerr = np.zeros(len(timind))\n",
    "beterr = np.zeros(len(timind))\n",
    "\n",
    "bbs = boundsB[80:120][::4]\n",
    "\n",
    "stop0err = np.zeros((len(timind),len(bbs)))\n",
    "stop1err = np.zeros((len(timind),len(bbs)))\n",
    "n=1\n",
    "for itraj in tqdm(range(1,500)):\n",
    "    log_lik_ratio, log_lik_ratio_swap = load_liks(itraj=itraj, total_time=total_time, dt=dt)\n",
    "    alerr += ((log_lik_ratio[indis_range] < 0).astype(int) - alerr)/n\n",
    "    beterr += ((log_lik_ratio_swap[indis_range] >= 0).astype(int) - beterr)/n\n",
    "    \n",
    "    for indb,b in enumerate(bbs):\n",
    "    \n",
    "        f1 = np.logical_or(log_lik_ratio[indis_range] > b, log_lik_ratio[indis_range] < -b).astype(int)\n",
    "        f0 = np.logical_or(log_lik_ratio_swap[indis_range] > b, log_lik_ratio_swap[indis_range] < -b).astype(int)\n",
    "        stop1err[:,indb] += (f1 - stop1err[:,indb])/n\n",
    "        stop0err[:,indb] += (f0 - stop0err[:,indb])/n\n",
    "    n+=1"
   ]
  },
  {
   "cell_type": "code",
   "execution_count": 404,
   "id": "4888ce8b",
   "metadata": {},
   "outputs": [],
   "source": [
    "stops = (stop0err + stop1err)/2"
   ]
  },
  {
   "cell_type": "code",
   "execution_count": 406,
   "id": "07b10be0",
   "metadata": {},
   "outputs": [
    {
     "data": {
      "text/plain": [
       "[<matplotlib.lines.Line2D at 0x7f00f0c266b0>]"
      ]
     },
     "execution_count": 406,
     "metadata": {},
     "output_type": "execute_result"
    },
    {
     "data": {
      "image/png": "[encoded data removed]",
      "text/plain": [
       "<Figure size 432x288 with 1 Axes>"
      ]
     },
     "metadata": {
      "needs_background": "light"
     },
     "output_type": "display_data"
    }
   ],
   "source": [
    "plt.plot(timind,1-stops[:,-1])"
   ]
  },
  {
   "cell_type": "code",
   "execution_count": 389,
   "id": "c35b802c",
   "metadata": {},
   "outputs": [],
   "source": [
    "avg_err = lambda o: (1-np.exp(-abs(o)))/(np.exp(abs(o)) - np.exp(-abs(o)))\n",
    "grid_errs_b = np.array([avg_err(b) for b in bbs])   ### this is to compare to the fixed value of STOCH\n",
    "times_stop = [timind[np.argmin(np.abs(stops[:,indb] - nb))] for indb,nb in enumerate(grid_errs_b)]"
   ]
  },
  {
   "cell_type": "code",
   "execution_count": 396,
   "id": "59d17b9c",
   "metadata": {},
   "outputs": [
    {
     "data": {
      "text/plain": [
       "[<matplotlib.lines.Line2D at 0x7f00f0fb5db0>]"
      ]
     },
     "execution_count": 396,
     "metadata": {},
     "output_type": "execute_result"
    },
    {
     "data": {
      "image/png": "[encoded data removed]",
      "text/plain": [
       "<Figure size 432x288 with 1 Axes>"
      ]
     },
     "metadata": {
      "needs_background": "light"
     },
     "output_type": "display_data"
    }
   ],
   "source": [
    "plt.plot(bpos,tims_det_ml)\n",
    "plt.plot(bbs,times_stop)"
   ]
  },
  {
   "cell_type": "code",
   "execution_count": null,
   "id": "242dbac1",
   "metadata": {},
   "outputs": [],
   "source": []
  },
  {
   "cell_type": "code",
   "execution_count": null,
   "id": "377f6266",
   "metadata": {},
   "outputs": [],
   "source": []
  },
  {
   "cell_type": "code",
   "execution_count": null,
   "id": "f0f5b9d3",
   "metadata": {},
   "outputs": [],
   "source": []
  },
  {
   "cell_type": "code",
   "execution_count": 363,
   "id": "a9fe9086",
   "metadata": {},
   "outputs": [],
   "source": []
  },
  {
   "cell_type": "code",
   "execution_count": 364,
   "id": "c7518164",
   "metadata": {},
   "outputs": [],
   "source": [
    "avg_err = lambda o: (1-np.exp(-abs(o)))/(np.exp(abs(o)) - np.exp(-abs(o)))\n",
    "grid_errs_b = np.array([avg_err(b) for b in bbs])   ### this is to compare to the fixed value of STOCH\n",
    "times_stop = [timind[np.argmin(np.abs(stops[:,indb] - nb))] for indb,nb in enumerate(grid_errs_b)]"
   ]
  },
  {
   "cell_type": "code",
   "execution_count": null,
   "id": "4a374d5a",
   "metadata": {},
   "outputs": [],
   "source": []
  },
  {
   "cell_type": "code",
   "execution_count": 286,
   "id": "027c5a35",
   "metadata": {},
   "outputs": [
    {
     "data": {
      "text/plain": [
       "array([0, 0, 0, ..., 0, 0, 0])"
      ]
     },
     "execution_count": 286,
     "metadata": {},
     "output_type": "execute_result"
    }
   ],
   "source": [
    "b = 1.\n"
   ]
  },
  {
   "cell_type": "code",
   "execution_count": 276,
   "id": "4eb856f5",
   "metadata": {},
   "outputs": [
    {
     "data": {
      "text/plain": [
       "[<matplotlib.lines.Line2D at 0x7f00f24fbe80>]"
      ]
     },
     "execution_count": 276,
     "metadata": {},
     "output_type": "execute_result"
    },
    {
     "data": {
      "image/png": "[encoded data removed]",
      "text/plain": [
       "<Figure size 432x288 with 1 Axes>"
      ]
     },
     "metadata": {
      "needs_background": "light"
     },
     "output_type": "display_data"
    }
   ],
   "source": [
    "plt.plot(timind,alerr)\n",
    "plt.plot(timind,beterr)"
   ]
  },
  {
   "cell_type": "code",
   "execution_count": 277,
   "id": "f92c8a3e",
   "metadata": {},
   "outputs": [],
   "source": [
    "errprob = 0.5*(alerr + beterr)"
   ]
  },
  {
   "cell_type": "code",
   "execution_count": 278,
   "id": "97e2cf0f",
   "metadata": {},
   "outputs": [
    {
     "data": {
      "image/png": "[encoded data removed]",
      "text/plain": [
       "<Figure size 432x288 with 1 Axes>"
      ]
     },
     "metadata": {
      "needs_background": "light"
     },
     "output_type": "display_data"
    }
   ],
   "source": [
    "ax = plt.subplot(111)\n",
    "ax.plot(timind,errprob)\n",
    "ax.set_yscale(\"log\")"
   ]
  },
  {
   "cell_type": "code",
   "execution_count": 279,
   "id": "50888acf",
   "metadata": {},
   "outputs": [],
   "source": [
    "errs_anal = np.array([0.5*(1 + erf(0.5*np.sqrt(t*mu))) for t in timind])"
   ]
  },
  {
   "cell_type": "code",
   "execution_count": 285,
   "id": "db605073",
   "metadata": {},
   "outputs": [
    {
     "data": {
      "text/plain": [
       "Text(0.5, 0, 'time')"
      ]
     },
     "execution_count": 285,
     "metadata": {},
     "output_type": "execute_result"
    },
    {
     "data": {
      "image/png": "[encoded data removed]",
      "text/plain": [
       "<Figure size 432x288 with 1 Axes>"
      ]
     },
     "metadata": {
      "needs_background": "light"
     },
     "output_type": "display_data"
    }
   ],
   "source": [
    "ax = plt.subplot(111)\n",
    "ax.plot(timind,errprob, label=\"num\")\n",
    "ax.plot(timind, 1-errs_anal, label=\"w/ gamma\")\n",
    "ax.set_yscale(\"log\")\n",
    "ax.set_ylabel(\"error proability\")\n",
    "ax.set_xlabel(\"time\")"
   ]
  },
  {
   "cell_type": "code",
   "execution_count": 281,
   "id": "e4c9e502",
   "metadata": {},
   "outputs": [],
   "source": [
    "where_err_meet = [np.argmin(np.abs(errprob-k)) for k in grid_errs]"
   ]
  },
  {
   "cell_type": "code",
   "execution_count": 282,
   "id": "5f772192",
   "metadata": {},
   "outputs": [],
   "source": [
    "tims_det_ml = np.array([timind[j] for j in where_err_meet])"
   ]
  },
  {
   "cell_type": "code",
   "execution_count": 411,
   "id": "efdeffee",
   "metadata": {},
   "outputs": [
    {
     "data": {
      "text/plain": [
       "array([0.00918974, 0.01837949, 0.02756923, 0.03675898, 0.04594872,\n",
       "       0.05513847, 0.06432821, 0.07351796, 0.0827077 , 0.09189744,\n",
       "       0.10108719, 0.11027693, 0.11946668, 0.12865642, 0.13784617,\n",
       "       0.14703591, 0.15622565, 0.1654154 , 0.17460514, 0.18379489,\n",
       "       0.19298463, 0.20217438, 0.21136412, 0.22055387, 0.22974361,\n",
       "       0.23893335, 0.2481231 , 0.25731284, 0.26650259, 0.27569233,\n",
       "       0.28488208, 0.29407182, 0.30326156, 0.31245131, 0.32164105,\n",
       "       0.3308308 , 0.34002054, 0.34921029, 0.35840003, 0.36758978,\n",
       "       0.37677952, 0.38596926, 0.39515901, 0.40434875, 0.4135385 ,\n",
       "       0.42272824, 0.43191799, 0.44110773, 0.45029747, 0.45948722,\n",
       "       0.46867696, 0.47786671, 0.48705645, 0.4962462 , 0.50543594,\n",
       "       0.51462569, 0.52381543, 0.53300517, 0.54219492, 0.55138466,\n",
       "       0.56057441, 0.56976415, 0.5789539 , 0.58814364, 0.59733339,\n",
       "       0.60652313, 0.61571287, 0.62490262, 0.63409236, 0.64328211,\n",
       "       0.65247185, 0.6616616 , 0.67085134, 0.68004108, 0.68923083,\n",
       "       0.69842057, 0.70761032, 0.71680006, 0.72598981, 0.73517955])"
      ]
     },
     "execution_count": 411,
     "metadata": {},
     "output_type": "execute_result"
    }
   ],
   "source": []
  },
  {
   "cell_type": "code",
   "execution_count": 491,
   "id": "90596729",
   "metadata": {},
   "outputs": [
    {
     "data": {
      "text/plain": [
       "[<matplotlib.lines.Line2D at 0x7f00eb4837f0>]"
      ]
     },
     "execution_count": 491,
     "metadata": {},
     "output_type": "execute_result"
    },
    {
     "data": {
      "image/png": "[encoded data removed]",
      "text/plain": [
       "<Figure size 432x288 with 1 Axes>"
      ]
     },
     "metadata": {
      "needs_background": "light"
     },
     "output_type": "display_data"
    }
   ],
   "source": []
  },
  {
   "cell_type": "code",
   "execution_count": 476,
   "id": "f9194f3a",
   "metadata": {},
   "outputs": [],
   "source": [
    "gt = np.linspace(0,timind[-1],1000)"
   ]
  },
  {
   "cell_type": "code",
   "execution_count": 494,
   "id": "f8e31df4",
   "metadata": {},
   "outputs": [
    {
     "ename": "SyntaxError",
     "evalue": "closing parenthesis ']' does not match opening parenthesis '(' (1163699535.py, line 4)",
     "output_type": "error",
     "traceback": [
      "\u001b[0;36m  Input \u001b[0;32mIn [494]\u001b[0;36m\u001b[0m\n\u001b[0;31m    corrs =np.array([.5*(1 + erf((a + mu*t)/np.sqrt(2*mu*t) -erf((-a + abs(mu0)*t)/np.sqrt(2*abs(mu0)*t))) for t in gt])/mu\u001b[0m\n\u001b[0m                                                                                                                      ^\u001b[0m\n\u001b[0;31mSyntaxError\u001b[0m\u001b[0;31m:\u001b[0m closing parenthesis ']' does not match opening parenthesis '('\n"
     ]
    }
   ],
   "source": [
    "stt_num = []\n",
    "for a in bpos:\n",
    "\n",
    "    corrs =np.array([.5*(1 + erf((a + mu*t)/np.sqrt(2*mu*t) -erf((-a + abs(mu0)*t)/np.sqrt(2*abs(mu0)*t))) for t in gt])/mu\n",
    "    stt_num.append(gt[np.argmin(np.stack([np.abs(corrs[k]-tt) for k,tt in enumerate(gt)]))])"
   ]
  },
  {
   "cell_type": "code",
   "execution_count": 499,
   "id": "253bc986",
   "metadata": {},
   "outputs": [],
   "source": [
    "def pro(l,mu,t):\n",
    "    return np.exp(-((l - mu*t)**2)/(2*mu*t))/np.sqrt((2*np.pi*mu*t))"
   ]
  },
  {
   "cell_type": "code",
   "execution_count": 509,
   "id": "fa34dff9",
   "metadata": {},
   "outputs": [
    {
     "name": "stderr",
     "output_type": "stream",
     "text": [
      "/tmp/ipykernel_554926/2938199114.py:2: RuntimeWarning: divide by zero encountered in double_scalars\n",
      "  return np.exp(-((l - mu*t)**2)/(2*mu*t))/np.sqrt((2*np.pi*mu*t))\n",
      "/tmp/ipykernel_554926/2938199114.py:2: RuntimeWarning: invalid value encountered in double_scalars\n",
      "  return np.exp(-((l - mu*t)**2)/(2*mu*t))/np.sqrt((2*np.pi*mu*t))\n"
     ]
    }
   ],
   "source": [
    "ss = []\n",
    "for a in bpos:\n",
    "\n",
    "    right = np.array([pro(a,mu,t)*a/mu for t in gt])\n",
    "    sto = gt[np.argmin(np.abs(right - gt))]\n",
    "    ss.append(sto)"
   ]
  },
  {
   "cell_type": "code",
   "execution_count": 512,
   "id": "2923f10d",
   "metadata": {},
   "outputs": [
    {
     "name": "stderr",
     "output_type": "stream",
     "text": [
      "/tmp/ipykernel_554926/2938199114.py:2: RuntimeWarning: divide by zero encountered in double_scalars\n",
      "  return np.exp(-((l - mu*t)**2)/(2*mu*t))/np.sqrt((2*np.pi*mu*t))\n",
      "/tmp/ipykernel_554926/2938199114.py:2: RuntimeWarning: invalid value encountered in double_scalars\n",
      "  return np.exp(-((l - mu*t)**2)/(2*mu*t))/np.sqrt((2*np.pi*mu*t))\n"
     ]
    },
    {
     "data": {
      "text/plain": [
       "[<matplotlib.lines.Line2D at 0x7f00ea408d90>]"
      ]
     },
     "execution_count": 512,
     "metadata": {},
     "output_type": "execute_result"
    },
    {
     "data": {
      "image/png": "[encoded data removed]",
      "text/plain": [
       "<Figure size 432x288 with 1 Axes>"
      ]
     },
     "metadata": {
      "needs_background": "light"
     },
     "output_type": "display_data"
    }
   ],
   "source": [
    "plt.plot([pro(a,mu,t)*a/mu for t in gt])"
   ]
  },
  {
   "cell_type": "code",
   "execution_count": 508,
   "id": "5dcd5a0e",
   "metadata": {},
   "outputs": [
    {
     "data": {
      "text/plain": [
       "0.0"
      ]
     },
     "execution_count": 508,
     "metadata": {},
     "output_type": "execute_result"
    }
   ],
   "source": []
  },
  {
   "cell_type": "code",
   "execution_count": null,
   "id": "87dcdf24",
   "metadata": {},
   "outputs": [],
   "source": []
  },
  {
   "cell_type": "code",
   "execution_count": 496,
   "id": "eaa9f239",
   "metadata": {},
   "outputs": [
    {
     "ename": "NameError",
     "evalue": "name 't' is not defined",
     "output_type": "error",
     "traceback": [
      "\u001b[0;31m---------------------------------------------------------------------------\u001b[0m",
      "\u001b[0;31mNameError\u001b[0m                                 Traceback (most recent call last)",
      "Input \u001b[0;32mIn [496]\u001b[0m, in \u001b[0;36m<cell line: 1>\u001b[0;34m()\u001b[0m\n\u001b[0;32m----> 1\u001b[0m erf((a \u001b[38;5;241m+\u001b[39m mu\u001b[38;5;241m*\u001b[39m\u001b[43mt\u001b[49m)\u001b[38;5;241m/\u001b[39mnp\u001b[38;5;241m.\u001b[39msqrt(\u001b[38;5;241m2\u001b[39m\u001b[38;5;241m*\u001b[39mmu\u001b[38;5;241m*\u001b[39mt))\n",
      "\u001b[0;31mNameError\u001b[0m: name 't' is not defined"
     ]
    }
   ],
   "source": [
    "erf((a + mu*t)/np.sqrt(2*mu*t))"
   ]
  },
  {
   "cell_type": "code",
   "execution_count": null,
   "id": "bc203860",
   "metadata": {},
   "outputs": [],
   "source": []
  },
  {
   "cell_type": "code",
   "execution_count": 493,
   "id": "1d22a772",
   "metadata": {},
   "outputs": [
    {
     "data": {
      "text/plain": [
       "[<matplotlib.lines.Line2D at 0x7f00eb4d3f70>]"
      ]
     },
     "execution_count": 493,
     "metadata": {},
     "output_type": "execute_result"
    },
    {
     "data": {
      "image/png": "[encoded data removed]",
      "text/plain": [
       "<Figure size 432x288 with 1 Axes>"
      ]
     },
     "metadata": {
      "needs_background": "light"
     },
     "output_type": "display_data"
    }
   ],
   "source": [
    "plt.plot(stoch)\n",
    "plt.plot(bpos/mu)\n",
    "plt.plot(corrs0,'.')\n",
    "plt.plot(stt_num)"
   ]
  },
  {
   "cell_type": "code",
   "execution_count": null,
   "id": "a0b3a2f1",
   "metadata": {},
   "outputs": [],
   "source": []
  },
  {
   "cell_type": "code",
   "execution_count": null,
   "id": "ea707b61",
   "metadata": {},
   "outputs": [],
   "source": []
  },
  {
   "cell_type": "code",
   "execution_count": 436,
   "id": "d5bf4735",
   "metadata": {},
   "outputs": [],
   "source": [
    "mu1 = l1[-1]/timind[-1]\n",
    "mu0 = l0[-1]/timind[-1]"
   ]
  },
  {
   "cell_type": "code",
   "execution_count": null,
   "id": "4378ea9a",
   "metadata": {},
   "outputs": [],
   "source": []
  },
  {
   "cell_type": "code",
   "execution_count": 447,
   "id": "7504d5a2",
   "metadata": {},
   "outputs": [],
   "source": [
    "corrs =np.array([erf((a + mu)/np.sqrt(2*mu)) for a in bpos])"
   ]
  },
  {
   "cell_type": "code",
   "execution_count": 464,
   "id": "fefb8f82",
   "metadata": {},
   "outputs": [],
   "source": [
    "corrs0 =np.array([erf((-a + np.abs(mu0))/np.sqrt(2*np.abs(mu0))) for a in bpos])"
   ]
  },
  {
   "cell_type": "code",
   "execution_count": 465,
   "id": "05c27451",
   "metadata": {},
   "outputs": [],
   "source": [
    "corrs = corrs*bpos/mu"
   ]
  },
  {
   "cell_type": "code",
   "execution_count": 466,
   "id": "2180077c",
   "metadata": {},
   "outputs": [],
   "source": [
    "corrs0 = corrs0*bpos/mu"
   ]
  },
  {
   "cell_type": "code",
   "execution_count": 467,
   "id": "f7637794",
   "metadata": {},
   "outputs": [
    {
     "data": {
      "text/plain": [
       "array([0.00918065, 0.01835926, 0.02753551, 0.03670904, 0.04587945,\n",
       "       0.05504631, 0.0642091 , 0.07336729, 0.08252024, 0.09166729,\n",
       "       0.10080767, 0.10994056, 0.11906503, 0.12818006, 0.13728456,\n",
       "       0.1463773 , 0.15545694, 0.16452202, 0.17357096, 0.18260202,\n",
       "       0.1916133 , 0.20060278, 0.20956822, 0.21850722, 0.22741719,\n",
       "       0.23629534, 0.24513864, 0.25394385, 0.2627075 , 0.27142585,\n",
       "       0.28009492, 0.28871043, 0.29726784, 0.30576229, 0.31418863,\n",
       "       0.32254138, 0.33081473, 0.33900254, 0.34709832, 0.35509519,\n",
       "       0.36298595, 0.37076298, 0.37841831, 0.38594356, 0.39332998,\n",
       "       0.40056841, 0.4076493 , 0.41456268, 0.4212982 , 0.42784513,\n",
       "       0.43419233, 0.44032826, 0.44624104, 0.45191841, 0.45734773,\n",
       "       0.46251605, 0.46741009, 0.47201625, 0.47632065, 0.48030917,\n",
       "       0.48396742, 0.48728082, 0.49023461, 0.49281388, 0.49500361,\n",
       "       0.4967887 , 0.49815401, 0.49908443, 0.49956487, 0.49958035,\n",
       "       0.49911601, 0.49815719, 0.49668947, 0.49469871, 0.49217112,\n",
       "       0.48909327, 0.4854522 , 0.48123546, 0.47643111, 0.47102785])"
      ]
     },
     "execution_count": 467,
     "metadata": {},
     "output_type": "execute_result"
    }
   ],
   "source": [
    "corrs0"
   ]
  },
  {
   "cell_type": "code",
   "execution_count": 284,
   "id": "aa304f74",
   "metadata": {},
   "outputs": [
    {
     "name": "stderr",
     "output_type": "stream",
     "text": [
      "/tmp/ipykernel_554926/2013439416.py:1: RuntimeWarning: invalid value encountered in true_divide\n",
      "  plt.plot((tims_det_ml[-1:] -tims_det_ml[1:]) /np.array((stoch[-1:]-stoch[1:])))\n"
     ]
    },
    {
     "data": {
      "text/plain": [
       "[<matplotlib.lines.Line2D at 0x7f00f2063340>]"
      ]
     },
     "execution_count": 284,
     "metadata": {},
     "output_type": "execute_result"
    },
    {
     "data": {
      "image/png": "[encoded data removed]",
      "text/plain": [
       "<Figure size 432x288 with 1 Axes>"
      ]
     },
     "metadata": {
      "needs_background": "light"
     },
     "output_type": "display_data"
    }
   ],
   "source": [
    "plt.plot((tims_det_ml[-1:] -tims_det_ml[1:]) /np.array((stoch[-1:]-stoch[1:])))"
   ]
  },
  {
   "cell_type": "code",
   "execution_count": null,
   "id": "80b1fcfc",
   "metadata": {},
   "outputs": [],
   "source": []
  },
  {
   "cell_type": "code",
   "execution_count": null,
   "id": "541fdab4",
   "metadata": {},
   "outputs": [],
   "source": []
  },
  {
   "cell_type": "code",
   "execution_count": null,
   "id": "3241ce6f",
   "metadata": {},
   "outputs": [],
   "source": []
  },
  {
   "cell_type": "code",
   "execution_count": null,
   "id": "b03b86dc",
   "metadata": {},
   "outputs": [],
   "source": []
  },
  {
   "cell_type": "code",
   "execution_count": 209,
   "id": "cfa56cc7",
   "metadata": {},
   "outputs": [],
   "source": [
    "avg_err = lambda o: (1-np.exp(-abs(o)))/(np.exp(abs(o)) - np.exp(-abs(o)))\n",
    "grid_errs = np.array([avg_err(b) for b in bpos])   ### this is to compare to the fixed value of STOCH"
   ]
  },
  {
   "cell_type": "code",
   "execution_count": 224,
   "id": "133ace80",
   "metadata": {},
   "outputs": [],
   "source": []
  },
  {
   "cell_type": "code",
   "execution_count": 225,
   "id": "356ede10",
   "metadata": {},
   "outputs": [
    {
     "data": {
      "text/plain": [
       "array([4.75020813e-01, 4.50166003e-01, 4.25557483e-01, 4.01312340e-01,\n",
       "       3.77540669e-01, 3.54343694e-01, 3.31812228e-01, 3.10025519e-01,\n",
       "       2.89050497e-01, 2.68941421e-01, 2.49739894e-01, 2.31475217e-01,\n",
       "       2.14165017e-01, 1.97816111e-01, 1.82425524e-01, 1.67981615e-01,\n",
       "       1.54465265e-01, 1.41851065e-01, 1.30108474e-01, 1.19202922e-01,\n",
       "       1.09096821e-01, 9.97504891e-02, 9.11229610e-02, 8.31726965e-02,\n",
       "       7.58581800e-02, 6.91384203e-02, 6.29733561e-02, 5.73241759e-02,\n",
       "       5.21535631e-02, 4.74258732e-02, 4.31072549e-02, 3.91657228e-02,\n",
       "       3.55711893e-02, 3.22954647e-02, 2.93122308e-02, 2.65969936e-02,\n",
       "       2.41270214e-02, 2.18812709e-02, 1.98403057e-02, 1.79862100e-02,\n",
       "       1.63024994e-02, 1.47740317e-02, 1.33869178e-02, 1.21284350e-02,\n",
       "       1.09869426e-02, 9.95180187e-03, 9.01329865e-03, 8.16257115e-03,\n",
       "       7.39154134e-03, 6.69285092e-03, 6.05980149e-03, 5.48629890e-03,\n",
       "       4.96680165e-03, 4.49627316e-03, 4.07013772e-03, 3.68423990e-03,\n",
       "       3.33480731e-03, 3.01841632e-03, 2.73196076e-03, 2.47262316e-03,\n",
       "       2.23784852e-03, 2.02532039e-03, 1.83293894e-03, 1.65880108e-03,\n",
       "       1.50118226e-03, 1.35851995e-03, 1.22939862e-03, 1.11253603e-03,\n",
       "       1.00677082e-03, 9.11051194e-04, 8.24424686e-04, 7.46028834e-04,\n",
       "       6.75082731e-04, 6.10879359e-04, 5.52778637e-04, 5.00201107e-04,\n",
       "       4.52622223e-04, 4.09567165e-04, 3.70606141e-04, 3.35350130e-04])"
      ]
     },
     "execution_count": 225,
     "metadata": {},
     "output_type": "execute_result"
    }
   ],
   "source": [
    "grid_errs"
   ]
  },
  {
   "cell_type": "code",
   "execution_count": null,
   "id": "8373f3f7",
   "metadata": {},
   "outputs": [],
   "source": []
  },
  {
   "cell_type": "code",
   "execution_count": 215,
   "id": "81aabd39",
   "metadata": {},
   "outputs": [
    {
     "ename": "ValueError",
     "evalue": "operands could not be broadcast together with shapes (161,) (10000,) ",
     "output_type": "error",
     "traceback": [
      "\u001b[0;31m---------------------------------------------------------------------------\u001b[0m",
      "\u001b[0;31mValueError\u001b[0m                                Traceback (most recent call last)",
      "Input \u001b[0;32mIn [215]\u001b[0m, in \u001b[0;36m<cell line: 1>\u001b[0;34m()\u001b[0m\n\u001b[0;32m----> 1\u001b[0m np\u001b[38;5;241m.\u001b[39mabs(\u001b[43mgrid_errs\u001b[49m\u001b[43m \u001b[49m\u001b[38;5;241;43m-\u001b[39;49m\u001b[43m \u001b[49m\u001b[43merrprob\u001b[49m)\n",
      "\u001b[0;31mValueError\u001b[0m: operands could not be broadcast together with shapes (161,) (10000,) "
     ]
    }
   ],
   "source": [
    "np.argnp.abs(grid_errs - errprob)"
   ]
  },
  {
   "cell_type": "code",
   "execution_count": null,
   "id": "6ab3fb70",
   "metadata": {},
   "outputs": [],
   "source": []
  },
  {
   "cell_type": "code",
   "execution_count": null,
   "id": "7180d8f6",
   "metadata": {},
   "outputs": [],
   "source": []
  },
  {
   "cell_type": "code",
   "execution_count": null,
   "id": "72bce7d6",
   "metadata": {},
   "outputs": [],
   "source": []
  },
  {
   "cell_type": "code",
   "execution_count": null,
   "id": "7e9c87d7",
   "metadata": {},
   "outputs": [],
   "source": []
  },
  {
   "cell_type": "code",
   "execution_count": 185,
   "id": "05bae9f9",
   "metadata": {},
   "outputs": [
    {
     "data": {
      "text/plain": [
       "[<matplotlib.lines.Line2D at 0x7f00f8869a50>]"
      ]
     },
     "execution_count": 185,
     "metadata": {},
     "output_type": "execute_result"
    },
    {
     "data": {
      "image/png": "[encoded data removed]",
      "text/plain": [
       "<Figure size 432x288 with 1 Axes>"
      ]
     },
     "metadata": {
      "needs_background": "light"
     },
     "output_type": "display_data"
    }
   ],
   "source": [
    "plt.plot(timind,log_lik_ratio)\n",
    "plt.plot(timind, np.zeros(len(timind)))"
   ]
  },
  {
   "cell_type": "code",
   "execution_count": null,
   "id": "597157f2",
   "metadata": {},
   "outputs": [],
   "source": []
  },
  {
   "cell_type": "code",
   "execution_count": 180,
   "id": "f7973cef",
   "metadata": {},
   "outputs": [
    {
     "data": {
      "text/plain": [
       "10000"
      ]
     },
     "execution_count": 180,
     "metadata": {},
     "output_type": "execute_result"
    }
   ],
   "source": [
    "len(indis_range)"
   ]
  },
  {
   "cell_type": "code",
   "execution_count": 181,
   "id": "93218c9a",
   "metadata": {},
   "outputs": [
    {
     "data": {
      "text/plain": [
       "10000"
      ]
     },
     "execution_count": 181,
     "metadata": {},
     "output_type": "execute_result"
    }
   ],
   "source": [
    "len(log_lik_ratio)"
   ]
  },
  {
   "cell_type": "code",
   "execution_count": null,
   "id": "f555780b",
   "metadata": {},
   "outputs": [],
   "source": []
  },
  {
   "cell_type": "code",
   "execution_count": null,
   "id": "48c3df21",
   "metadata": {},
   "outputs": [],
   "source": []
  },
  {
   "cell_type": "code",
   "execution_count": 21,
   "id": "0c26f32d",
   "metadata": {},
   "outputs": [],
   "source": [
    "mu, _ = np.polyfit(timind[:-100], l1[:-100],1)\n"
   ]
  },
  {
   "cell_type": "code",
   "execution_count": 22,
   "id": "0bf152fd",
   "metadata": {},
   "outputs": [
    {
     "data": {
      "text/plain": [
       "10.881695484234605"
      ]
     },
     "execution_count": 22,
     "metadata": {},
     "output_type": "execute_result"
    }
   ],
   "source": [
    "mu"
   ]
  },
  {
   "cell_type": "code",
   "execution_count": 28,
   "id": "becf8a57",
   "metadata": {},
   "outputs": [],
   "source": []
  },
  {
   "cell_type": "code",
   "execution_count": 35,
   "id": "cb978503",
   "metadata": {},
   "outputs": [
    {
     "data": {
      "text/plain": [
       "[<matplotlib.lines.Line2D at 0x7f00fc6fc190>]"
      ]
     },
     "execution_count": 35,
     "metadata": {},
     "output_type": "execute_result"
    },
    {
     "data": {
      "image/png": "[encoded data removed]",
      "text/plain": [
       "<Figure size 432x288 with 1 Axes>"
      ]
     },
     "metadata": {
      "needs_background": "light"
     },
     "output_type": "display_data"
    }
   ],
   "source": [
    "plt.plot(times_alpha_to_errB[A:B], -1*np.log(errs)/mu)"
   ]
  },
  {
   "cell_type": "code",
   "execution_count": null,
   "id": "eaa0c43a",
   "metadata": {},
   "outputs": [],
   "source": []
  },
  {
   "cell_type": "code",
   "execution_count": 26,
   "id": "41b5a099",
   "metadata": {},
   "outputs": [
    {
     "data": {
      "text/plain": [
       "array([1.39757878e+00, 1.08607890e+00, 9.23613857e-01, 7.45961109e-01,\n",
       "       6.18270742e-01, 4.78660198e-01, 3.74037227e-01, 2.91896116e-01,\n",
       "       2.26686269e-01, 1.74479361e-01, 1.32041983e-01, 8.57979933e-02,\n",
       "       6.48113136e-02, 4.28379213e-02, 2.69277640e-02, 1.65576739e-02,\n",
       "       8.50071262e-03, 5.16271488e-03, 3.18818292e-03, 1.48082665e-03,\n",
       "       8.69671208e-04, 4.70589636e-04, 2.22744075e-04, 1.14669274e-04,\n",
       "       4.35463251e-05, 1.85085483e-05, 7.46714723e-06, 3.50573628e-06,\n",
       "       1.42283019e-06, 3.00478052e-07, 9.34113999e-08, 3.50600319e-08,\n",
       "       7.63984767e-09, 1.83361548e-09, 3.91970345e-10, 1.03143161e-10,\n",
       "       1.45798928e-11])"
      ]
     },
     "execution_count": 26,
     "metadata": {},
     "output_type": "execute_result"
    }
   ],
   "source": [
    "-np.log(erf(np.sqrt(mu)*times_alpha_to_errB[A:B]))"
   ]
  },
  {
   "cell_type": "code",
   "execution_count": null,
   "id": "0e2668be",
   "metadata": {},
   "outputs": [],
   "source": []
  },
  {
   "cell_type": "code",
   "execution_count": 3,
   "id": "6e5b651e",
   "metadata": {},
   "outputs": [],
   "source": [
    "B = 8.\n",
    "dB = .1\n",
    "boundsB= np.arange(-B,B+dB,dB)\n",
    "bpos = boundsB[boundsB>=0]"
   ]
  },
  {
   "cell_type": "code",
   "execution_count": 4,
   "id": "260e25f0",
   "metadata": {},
   "outputs": [],
   "source": [
    "Ntraj = 5000"
   ]
  },
  {
   "cell_type": "code",
   "execution_count": 5,
   "id": "c6a5e1d5",
   "metadata": {},
   "outputs": [],
   "source": [
    "path_data = get_def_path()+\"analysis/{}/\".format(Ntraj,mode)\n"
   ]
  },
  {
   "cell_type": "code",
   "execution_count": 6,
   "id": "1c7a97a8",
   "metadata": {},
   "outputs": [],
   "source": []
  },
  {
   "cell_type": "code",
   "execution_count": 17,
   "id": "26d821bf",
   "metadata": {},
   "outputs": [],
   "source": [
    "from scipy.special import erf"
   ]
  },
  {
   "cell_type": "code",
   "execution_count": 95,
   "id": "999e078e",
   "metadata": {},
   "outputs": [],
   "source": [
    "errs = 1-0.5*(1 + erf(0.5*np.sqrt(mu*times_alpha_to_errB[A:B])))"
   ]
  },
  {
   "cell_type": "code",
   "execution_count": 96,
   "id": "f99b3e7b",
   "metadata": {},
   "outputs": [
    {
     "data": {
      "text/plain": [
       "[<matplotlib.lines.Line2D at 0x7f00fb78d660>]"
      ]
     },
     "execution_count": 96,
     "metadata": {},
     "output_type": "execute_result"
    },
    {
     "data": {
      "image/png": "[encoded data removed]",
      "text/plain": [
       "<Figure size 432x288 with 1 Axes>"
      ]
     },
     "metadata": {
      "needs_background": "light"
     },
     "output_type": "display_data"
    }
   ],
   "source": [
    "plt.plot(bpos[A:B],times_alpha_to_errB[A:B])\n",
    "plt.plot( -np.log(errs), times_alpha_to_errB[A:B])"
   ]
  },
  {
   "cell_type": "code",
   "execution_count": 162,
   "id": "e8e38b4b",
   "metadata": {},
   "outputs": [],
   "source": []
  },
  {
   "cell_type": "code",
   "execution_count": 163,
   "id": "d2d7ab10",
   "metadata": {},
   "outputs": [],
   "source": [
    "alphas = vals_h0_h1 = np.stack(list(deter[\"h0/h1\"].values()))\n",
    "betas = vals_h1_h0 = np.stack(list(deter[\"h1/h0\"].values()))"
   ]
  },
  {
   "cell_type": "code",
   "execution_count": 174,
   "id": "992cffb1",
   "metadata": {},
   "outputs": [
    {
     "data": {
      "text/plain": [
       "[<matplotlib.lines.Line2D at 0x7f00f891a2c0>]"
      ]
     },
     "execution_count": 174,
     "metadata": {},
     "output_type": "execute_result"
    },
    {
     "data": {
      "image/png": "[encoded data removed]",
      "text/plain": [
       "<Figure size 432x288 with 1 Axes>"
      ]
     },
     "metadata": {
      "needs_background": "light"
     },
     "output_type": "display_data"
    }
   ],
   "source": [
    "plt.plot(alphas[80,:])"
   ]
  },
  {
   "cell_type": "code",
   "execution_count": 175,
   "id": "4781938b",
   "metadata": {},
   "outputs": [
    {
     "data": {
      "text/plain": [
       "-2.842170943040401e-14"
      ]
     },
     "execution_count": 175,
     "metadata": {},
     "output_type": "execute_result"
    }
   ],
   "source": [
    "boundsB[80]"
   ]
  },
  {
   "cell_type": "code",
   "execution_count": null,
   "id": "a04ee8ed",
   "metadata": {},
   "outputs": [],
   "source": [
    "log_lik_ratio, log_lik_ratio_swap = load_liks(itraj=itraj, total_time=total_time, dt=dt)"
   ]
  },
  {
   "cell_type": "code",
   "execution_count": null,
   "id": "4b83c0de",
   "metadata": {},
   "outputs": [],
   "source": []
  },
  {
   "cell_type": "code",
   "execution_count": null,
   "id": "875308a5",
   "metadata": {},
   "outputs": [],
   "source": []
  },
  {
   "cell_type": "code",
   "execution_count": null,
   "id": "13c319e8",
   "metadata": {},
   "outputs": [],
   "source": []
  },
  {
   "cell_type": "code",
   "execution_count": 147,
   "id": "243d3ee1",
   "metadata": {},
   "outputs": [],
   "source": [
    "avg_err_alpha = lambda o: (1-np.exp(-abs(o)))/(np.exp(abs(o)) - np.exp(-abs(o)))\n",
    "avg_err_beta = lambda o :(1-np.exp(-abs(o)))/(np.exp(abs(o)) - np.exp(-abs(o)))\n",
    "\n",
    "errs = np.array([avg_err_alpha(b) for b in bpos]) #\n",
    "tot_err = 0.5*(alphas+betas)\n",
    "\n",
    "times_to_errs = [timind[np.argmin(np.abs(tot_err[indb,:] - errs[indb]))] for indb in range(len(bpos))]"
   ]
  },
  {
   "cell_type": "code",
   "execution_count": 149,
   "id": "b90a1ba8",
   "metadata": {},
   "outputs": [
    {
     "data": {
      "text/plain": [
       "(161, 10000)"
      ]
     },
     "execution_count": 149,
     "metadata": {},
     "output_type": "execute_result"
    }
   ],
   "source": [
    "tot_err.shape"
   ]
  },
  {
   "cell_type": "code",
   "execution_count": 151,
   "id": "7273d99c",
   "metadata": {},
   "outputs": [
    {
     "data": {
      "text/plain": [
       "80"
      ]
     },
     "execution_count": 151,
     "metadata": {},
     "output_type": "execute_result"
    }
   ],
   "source": [
    "np.argmin(np.abs(boundsB))"
   ]
  },
  {
   "cell_type": "code",
   "execution_count": 160,
   "id": "c6ba08d0",
   "metadata": {},
   "outputs": [
    {
     "data": {
      "text/plain": [
       "array([0., 0., 0., ..., 0., 0., 0.])"
      ]
     },
     "execution_count": 160,
     "metadata": {},
     "output_type": "execute_result"
    }
   ],
   "source": [
    "alphas[80]"
   ]
  },
  {
   "cell_type": "code",
   "execution_count": 157,
   "id": "5827b533",
   "metadata": {},
   "outputs": [
    {
     "data": {
      "text/plain": [
       "[<matplotlib.lines.Line2D at 0x7f00f8a61d50>]"
      ]
     },
     "execution_count": 157,
     "metadata": {},
     "output_type": "execute_result"
    },
    {
     "data": {
      "image/png": "[encoded data removed]",
      "text/plain": [
       "<Figure size 432x288 with 1 Axes>"
      ]
     },
     "metadata": {
      "needs_background": "light"
     },
     "output_type": "display_data"
    }
   ],
   "source": [
    "plt.plot(betas[80,:])"
   ]
  },
  {
   "cell_type": "code",
   "execution_count": null,
   "id": "53a63050",
   "metadata": {},
   "outputs": [],
   "source": []
  },
  {
   "cell_type": "code",
   "execution_count": null,
   "id": "bd442c7c",
   "metadata": {},
   "outputs": [],
   "source": []
  },
  {
   "cell_type": "code",
   "execution_count": 144,
   "id": "a5b3d8ef",
   "metadata": {},
   "outputs": [
    {
     "data": {
      "text/plain": [
       "[<matplotlib.lines.Line2D at 0x7f00f8b41bd0>]"
      ]
     },
     "execution_count": 144,
     "metadata": {},
     "output_type": "execute_result"
    },
    {
     "data": {
      "image/png": "[encoded data removed]",
      "text/plain": [
       "<Figure size 432x288 with 1 Axes>"
      ]
     },
     "metadata": {
      "needs_background": "light"
     },
     "output_type": "display_data"
    }
   ],
   "source": [
    "plt.plot(times_to_errs)"
   ]
  },
  {
   "cell_type": "code",
   "execution_count": null,
   "id": "ba451db1",
   "metadata": {},
   "outputs": [],
   "source": []
  },
  {
   "cell_type": "code",
   "execution_count": 122,
   "id": "08be805c",
   "metadata": {},
   "outputs": [
    {
     "data": {
      "text/plain": [
       "9"
      ]
     },
     "execution_count": 122,
     "metadata": {},
     "output_type": "execute_result"
    }
   ],
   "source": [
    "np.argmin(np.abs(bpos-1))"
   ]
  },
  {
   "cell_type": "code",
   "execution_count": null,
   "id": "3395f9c5",
   "metadata": {},
   "outputs": [],
   "source": []
  },
  {
   "cell_type": "code",
   "execution_count": null,
   "id": "b5ae6b49",
   "metadata": {},
   "outputs": [],
   "source": [
    "np.stack(list(deter[\"h0/h1\"].values())).shape"
   ]
  },
  {
   "cell_type": "code",
   "execution_count": null,
   "id": "26a5c025",
   "metadata": {},
   "outputs": [],
   "source": []
  },
  {
   "cell_type": "code",
   "execution_count": null,
   "id": "e896fb5b",
   "metadata": {},
   "outputs": [],
   "source": []
  },
  {
   "cell_type": "code",
   "execution_count": 48,
   "id": "0cbffe5a",
   "metadata": {},
   "outputs": [
    {
     "name": "stderr",
     "output_type": "stream",
     "text": [
      "/tmp/ipykernel_554926/2292628644.py:3: RuntimeWarning: invalid value encountered in true_divide\n",
      "  plt.plot(bpos[A:B][1:], dd/ss)\n"
     ]
    },
    {
     "data": {
      "text/plain": [
       "[<matplotlib.lines.Line2D at 0x7f00fc3a6da0>]"
      ]
     },
     "execution_count": 48,
     "metadata": {},
     "output_type": "execute_result"
    },
    {
     "data": {
      "image/png": "[encoded data removed]",
      "text/plain": [
       "<Figure size 432x288 with 1 Axes>"
      ]
     },
     "metadata": {
      "needs_background": "light"
     },
     "output_type": "display_data"
    }
   ],
   "source": [
    "dd = times_alpha_to_errB[A:B][-1:]-times_alpha_to_errB[A:B][1:]\n",
    "ss = stoch[A:B][-1:] - stoch[A:B][1:]\n",
    "plt.plot(bpos[A:B][1:], dd/ss)"
   ]
  },
  {
   "cell_type": "code",
   "execution_count": null,
   "id": "1a39ce63",
   "metadata": {},
   "outputs": [],
   "source": []
  },
  {
   "cell_type": "code",
   "execution_count": null,
   "id": "d18e1722",
   "metadata": {},
   "outputs": [],
   "source": []
  },
  {
   "cell_type": "code",
   "execution_count": 45,
   "id": "3001eb43",
   "metadata": {},
   "outputs": [
    {
     "data": {
      "text/plain": [
       "Text(0, 0.5, '$\\\\frac{t_d}{t_s}}$')"
      ]
     },
     "execution_count": 45,
     "metadata": {},
     "output_type": "execute_result"
    },
    {
     "data": {
      "image/png": "[encoded data removed]",
      "text/plain": [
       "<Figure size 1440x1440 with 1 Axes>"
      ]
     },
     "metadata": {
      "needs_background": "light"
     },
     "output_type": "display_data"
    }
   ],
   "source": [
    "plt.figure(figsize=(20,20))\n",
    "ax = plt.subplot(111)\n",
    "LW = 20\n",
    "ax.plot(bpos[10:49],(times_alpha_to_errB/stoch)[10:49], linewidth=LW)\n",
    "ax.tick_params(axis='both', which='major', labelsize=TS)\n",
    "ax.set_ylabel(r'$\\frac{t_d}{t_s}}$')"
   ]
  },
  {
   "cell_type": "code",
   "execution_count": null,
   "id": "79abfd16",
   "metadata": {},
   "outputs": [],
   "source": []
  },
  {
   "cell_type": "code",
   "execution_count": null,
   "id": "dc4bf619",
   "metadata": {},
   "outputs": [],
   "source": []
  },
  {
   "cell_type": "code",
   "execution_count": 12,
   "id": "0c27f385",
   "metadata": {},
   "outputs": [
    {
     "data": {
      "text/plain": [
       "[<matplotlib.lines.Line2D at 0x7fbd9b1c1960>]"
      ]
     },
     "execution_count": 12,
     "metadata": {},
     "output_type": "execute_result"
    },
    {
     "data": {
      "image/png": "[encoded data removed]",
      "text/plain": [
       "<Figure size 432x288 with 1 Axes>"
      ]
     },
     "metadata": {
      "needs_background": "light"
     },
     "output_type": "display_data"
    }
   ],
   "source": [
    "plt.plot(timind,l1)\n",
    "plt.plot(timind,l0)"
   ]
  },
  {
   "cell_type": "code",
   "execution_count": 36,
   "id": "b0e9480f",
   "metadata": {},
   "outputs": [
    {
     "name": "stderr",
     "output_type": "stream",
     "text": [
      "/tmp/ipykernel_511818/2059129522.py:4: RuntimeWarning: divide by zero encountered in double_scalars\n",
      "  return  abs(b)*np.exp(-((abs(b)-mu*t)**2)/(2*t*(S**2)))/div\n",
      "/tmp/ipykernel_511818/2059129522.py:4: RuntimeWarning: invalid value encountered in double_scalars\n",
      "  return  abs(b)*np.exp(-((abs(b)-mu*t)**2)/(2*t*(S**2)))/div\n"
     ]
    },
    {
     "data": {
      "image/png": "[encoded data removed]",
      "text/plain": [
       "<Figure size 720x720 with 1 Axes>"
      ]
     },
     "metadata": {
      "needs_background": "light"
     },
     "output_type": "display_data"
    }
   ],
   "source": [
    "def prob_craft(t, b, mu):\n",
    "    S= np.sqrt(2*mu)\n",
    "    div = (np.sqrt(2*np.pi)*S*(t**(3/2)))\n",
    "    return  abs(b)*np.exp(-((abs(b)-mu*t)**2)/(2*t*(S**2)))/div\n",
    "\n",
    "muu, _ = np.polyfit(timind, l1,1)\n",
    "\n",
    "LS, TS = 60, 40\n",
    "plt.figure(figsize=(10,10))\n",
    "ax = plt.subplot(111)\n",
    "indb = 49\n",
    "\n",
    "# timm =  np.linspace(np.min(timbin1[indb]),np.max(timbin1[indb]),100)\n",
    "timm =  np.linspace(0,np.max(timbin1[indb]),100)\n",
    "\n",
    "popo = [prob_craft(tt, bpos[indb] , muu) for tt in timm]\n",
    "ax.plot(timm,popo, linewidth=4)\n",
    "ax.bar(timbin1[indb], cons1[indb], width=timbin1[indb][1]-timbin1[indb][0], color=\"red\", alpha=0.75, edgecolor=\"black\",)#, label=\"simulations\")\n",
    "ax.set_xlabel(r'$\\tau$',size=LS)\n",
    "ax.set_ylabel(r'$P(\\tau)$', size=LS)\n",
    "ax.tick_params(axis='both', which='major', labelsize=TS)"
   ]
  },
  {
   "cell_type": "code",
   "execution_count": null,
   "id": "47df48be",
   "metadata": {},
   "outputs": [],
   "source": []
  },
  {
   "cell_type": "code",
   "execution_count": 35,
   "id": "57158834",
   "metadata": {},
   "outputs": [
    {
     "data": {
      "text/plain": [
       "49"
      ]
     },
     "execution_count": 35,
     "metadata": {},
     "output_type": "execute_result"
    }
   ],
   "source": [
    "np.argmin(np.abs(bpos-5))"
   ]
  },
  {
   "cell_type": "code",
   "execution_count": 32,
   "id": "631c4e8d",
   "metadata": {},
   "outputs": [
    {
     "data": {
      "text/plain": [
       "array([0.1, 0.2, 0.3, 0.4, 0.5, 0.6, 0.7, 0.8, 0.9, 1. , 1.1, 1.2, 1.3,\n",
       "       1.4, 1.5, 1.6, 1.7, 1.8, 1.9, 2. , 2.1, 2.2, 2.3, 2.4, 2.5, 2.6,\n",
       "       2.7, 2.8, 2.9, 3. , 3.1, 3.2, 3.3, 3.4, 3.5, 3.6, 3.7, 3.8, 3.9,\n",
       "       4. , 4.1, 4.2, 4.3, 4.4, 4.5, 4.6, 4.7, 4.8, 4.9, 5. , 5.1, 5.2,\n",
       "       5.3, 5.4, 5.5, 5.6, 5.7, 5.8, 5.9, 6. , 6.1, 6.2, 6.3, 6.4, 6.5,\n",
       "       6.6, 6.7, 6.8, 6.9, 7. , 7.1, 7.2, 7.3, 7.4, 7.5, 7.6, 7.7, 7.8,\n",
       "       7.9, 8. ])"
      ]
     },
     "execution_count": 32,
     "metadata": {},
     "output_type": "execute_result"
    }
   ],
   "source": [
    "bpos"
   ]
  },
  {
   "cell_type": "code",
   "execution_count": null,
   "id": "3270e2b4",
   "metadata": {},
   "outputs": [],
   "source": []
  }
 ],
 "metadata": {
  "kernelspec": {
   "display_name": "Python 3 (ipykernel)",
   "language": "python",
   "name": "python3"
  },
  "language_info": {
   "codemirror_mode": {
    "name": "ipython",
    "version": 3
   },
   "file_extension": ".py",
   "mimetype": "text/x-python",
   "name": "python",
   "nbconvert_exporter": "python",
   "pygments_lexer": "ipython3",
   "version": "3.10.4"
  }
 },
 "nbformat": 4,
 "nbformat_minor": 5
}
