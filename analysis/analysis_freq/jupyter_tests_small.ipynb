{
 "cells": [
  {
   "cell_type": "code",
   "execution_count": null,
   "id": "c908223d-b9b6-4073-88f0-3d220cb3ccf3",
   "metadata": {},
   "outputs": [],
   "source": [
    "import os\n",
    "os.chdir('/nfs/pic.es/user/m/mbilkis/cdisc')\n",
    "import sys\n",
    "sys.path.insert(0, os.getcwd())\n",
    "\n",
    "import numpy as np\n",
    "from numerics.utilities.misc import *\n",
    "import pickle\n",
    "import numpy as np\n",
    "from tqdm import tqdm\n",
    "import argparse\n",
    "\n"
   ]
  },
  {
   "cell_type": "code",
   "execution_count": null,
   "id": "4578b278",
   "metadata": {},
   "outputs": [],
   "source": [
    "Ntraj = 100\n",
    "omega0, omega1 = 1e4, 1.05e4\n",
    "omega_pro = (omega0 + omega1)/2\n",
    "period = (2*np.pi/omega_pro)\n",
    "dt = period/100\n",
    "total_time = 100*period\n",
    "exp_path = \"freqs/{}/\".format([omega0,omega1])\n",
    "save_path = get_path_config(exp_path=exp_path,total_time=total_time, dt=dt, noitraj=True)\n",
    "os.makedirs(save_path, exist_ok=True)\n",
    "\n",
    "\n",
    "###########################\n",
    "# ###### LOAD DATA\n",
    "times = np.arange(0, total_time+ dt, dt )\n",
    "indis = np.linspace(0,len(times)-1, int(1e4)).astype(int)\n",
    "timind = [times[k] for k in indis]\n",
    "indis_range = list(range(len(indis)))\n",
    "\n",
    "\n",
    "B = 6.\n",
    "dB = .05\n",
    "boundsB= np.arange(-B,B+dB,dB)\n",
    "\n",
    "bpos = boundsB[boundsB>=0]\n",
    "bneg = boundsB[boundsB<0]\n",
    "\n",
    "\n",
    "deter, stop = {}, {}\n",
    "stop[\"_0\"] = {i:[] for i in range(1,Ntraj)}\n",
    "stop[\"_1\"] = {i:[] for i in range(1,Ntraj)}\n",
    "deter[\"h0/h1\"] ={indb:[0]*len(indis) for indb in range(len(boundsB))}\n",
    "deter[\"h1/h0\"] = {indb:[0]*len(indis) for indb in range(len(boundsB))}\n",
    "\n",
    "\n",
    "\n",
    "def load_traj(itraj, what=\"logliks.npy\", flip_params=0):\n",
    "    gamma0 = gamma1 = 100\n",
    "    eta0 = eta1 = 1\n",
    "    kappa0 = kappa1 = 1e3\n",
    "    n0 = n1 = 1\n",
    "    omega0, omega1 = 1e4, 1.05e4\n",
    "\n",
    "    h0 = [gamma0, omega0, n0, eta0, kappa0]\n",
    "    h1 = [gamma1, omega1, n1, eta1, kappa1]\n",
    "\n",
    "    omega_pro = (omega0 + omega1)/2\n",
    "    period = (2*np.pi/omega_pro)\n",
    "    dt = period/100\n",
    "    total_time = 100*period\n",
    "    if flip_params == 1:\n",
    "        params = [h0, h1]\n",
    "    else:\n",
    "        params = [h1,h0]\n",
    "    exp_path = str(params)+\"/\"\n",
    "\n",
    "    l =load_data(exp_path=exp_path, itraj=itraj, total_time=total_time, dt=dt, what=what)\n",
    "    return l"
   ]
  },
  {
   "cell_type": "code",
   "execution_count": null,
   "id": "8ebccf32-f613-4d8f-9a5e-7755afd38ff6",
   "metadata": {},
   "outputs": [],
   "source": [
    "l1t, l0t = [],[]\n",
    "n=1\n",
    "ers = []\n",
    "for itraj in tqdm(range(1,Ntraj)):\n",
    "    try:\n",
    "\n",
    "        [l0_1,l1_1], [l1_0,l0_0] = load_traj(itraj=itraj,what=\"logliks.npy\", flip_params=0).T, load_traj(itraj=itraj,what=\"logliks.npy\", flip_params=1).T\n",
    "        log_lik_ratio, log_lik_ratio_swap = l1_1-l0_1, l1_0-l0_0\n",
    "\n",
    "        for indb,b in enumerate(boundsB):\n",
    "            deter[\"h0/h1\"][indb] += ((log_lik_ratio[indis_range] < b).astype(int)  - deter[\"h0/h1\"][indb])/n\n",
    "            deter[\"h1/h0\"][indb] += ((log_lik_ratio_swap[indis_range] > b).astype(int)  - deter[\"h1/h0\"][indb])/n\n",
    "            if b>=0:\n",
    "                stop[\"_1\"][itraj].append(get_stop_time(log_lik_ratio, b, timind))\n",
    "                stop[\"_0\"][itraj].append(get_stop_time(log_lik_ratio_swap, b,timind))\n",
    "        n+=1\n",
    "    except Exception:\n",
    "        ers.append(itraj)\n",
    "        print(\"error {}\".format(itraj))\n",
    "        \n"
   ]
  },
  {
   "cell_type": "code",
   "execution_count": 6,
   "id": "8f0d247f-4598-4c23-b741-2eec024a2d8c",
   "metadata": {},
   "outputs": [],
   "source": []
  },
  {
   "cell_type": "code",
   "execution_count": 7,
   "id": "ff9d4230-f5f7-4e09-bbb1-551ea2fb5ab1",
   "metadata": {},
   "outputs": [
    {
     "name": "stdout",
     "output_type": "stream",
     "text": [
      "data saved in /data/uab-giq/scratch/matias/quantera/trajectories/mechanical_freq/freqs/[10000.0, 10500.0]//T_0.06129936885053255_dt_6.129936885053255e-06/B6.0_db0.05_100/\n",
      "\n"
     ]
    }
   ],
   "source": []
  },
  {
   "cell_type": "code",
   "execution_count": 10,
   "id": "71dfde0d-db4d-443e-903c-5d471e2b7312",
   "metadata": {},
   "outputs": [],
   "source": [
    "import matplotlib.pyplot as plt "
   ]
  },
  {
   "cell_type": "code",
   "execution_count": 9,
   "id": "c9d3fdd6-3d1c-4424-a861-c2a1e8f32708",
   "metadata": {},
   "outputs": [
    {
     "data": {
      "text/plain": [
       "[<matplotlib.lines.Line2D at 0x2ba63dd03550>]"
      ]
     },
     "execution_count": 11,
     "metadata": {},
     "output_type": "execute_result"
    },
    {
     "data": {
      "image/png": "[encoded data removed]",
      "text/plain": [
       "<Figure size 432x288 with 1 Axes>"
      ]
     },
     "metadata": {
      "needs_background": "light"
     },
     "output_type": "display_data"
    }
   ],
   "source": [
    ".plot(times_sequential)"
   ]
  },
  {
   "cell_type": "code",
   "execution_count": null,
   "id": "8fafc759-dbc3-451d-982a-219c89e51b8b",
   "metadata": {},
   "outputs": [],
   "source": []
  }
 ],
 "metadata": {
  "kernelspec": {
   "display_name": "qenv_bilkis",
   "language": "python",
   "name": "qenv_bilkis"
  },
  "language_info": {
   "codemirror_mode": {
    "name": "ipython",
    "version": 3
   },
   "file_extension": ".py",
   "mimetype": "text/x-python",
   "name": "python",
   "nbconvert_exporter": "python",
   "pygments_lexer": "ipython3",
   "version": "3.6.8"
  }
 },
 "nbformat": 4,
 "nbformat_minor": 5
}
