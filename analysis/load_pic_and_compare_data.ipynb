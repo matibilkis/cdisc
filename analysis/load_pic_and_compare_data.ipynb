{
 "cells": [
  {
   "cell_type": "code",
   "execution_count": 2,
   "id": "f77fc693-d4c7-417e-a5d6-a24a68ea8e16",
   "metadata": {},
   "outputs": [],
   "source": [
    "import os\n",
    "import sys\n",
    "sys.path.insert(0, os.getcwd())\n",
    "os.chdir(\"..\")\n",
    "import numpy as np\n",
    "import matplotlib.pyplot as plt\n",
    "from numerics.utilities.misc import *\n",
    "import numpy as np\n",
    "import matplotlib.pyplot as plt\n",
    "from lmfit.models import LorentzianModel\n",
    "import multiprocessing as mp\n",
    "from tqdm import tqdm\n",
    "import pickle"
   ]
  },
  {
   "cell_type": "code",
   "execution_count": 60,
   "id": "cc052ab1-bc51-4e23-b2f1-26b18d3e8898",
   "metadata": {},
   "outputs": [],
   "source": [
    "\n",
    "gamma, omega, n, eta, kappa = [1e1, 1e3, 10., 1., 1e2]#[1e1, 1e3, 1., 1., 1e4]\n",
    "params = [gamma, omega, n, eta, kappa]\n",
    "N_periods = 100.\n",
    "single_period=2*np.pi/omega\n",
    "total_time = N_periods*single_period\n",
    "dt = single_period/50.\n",
    "times = np.arange(0,total_time+dt,dt)\n",
    "exp_path = str(params)+\"/\"\n",
    "\n",
    "timms = np.linspace(100, len(times)-1,10).astype(\"int\")\n",
    "\n",
    "trajs = np.array(list(range(0,int(1e3))))\n"
   ]
  },
  {
   "cell_type": "code",
   "execution_count": 61,
   "id": "63d5f6fa-da7d-4c0f-968e-68db96bc0241",
   "metadata": {},
   "outputs": [
    {
     "name": "stderr",
     "output_type": "stream",
     "text": [
      "100%|██████████| 1000/1000 [00:02<00:00, 368.21it/s]\n"
     ]
    }
   ],
   "source": [
    "ers = []\n",
    "fi = []\n",
    "for itraj in tqdm(trajs):\n",
    "    try:\n",
    "        states_th = load_data(exp_path=exp_path,total_time=total_time, dt=dt,what=\"states_th.npy\",itraj=itraj)\n",
    "        fi.append(np.abs(states_th[:,0])**2)\n",
    "    except Exception:\n",
    "        ers.append(itraj)\n",
    "fi = np.stack(fi)\n",
    "\n",
    "means_der_th_sq = np.mean(fi,axis=0)\n",
    "fisher = np.cumsum(means_der_th_sq,axis=0)*4*kappa*dt\n"
   ]
  },
  {
   "cell_type": "code",
   "execution_count": null,
   "id": "d83d0be0-b54f-4e3a-ae2f-5523d0b06c8b",
   "metadata": {},
   "outputs": [],
   "source": []
  },
  {
   "cell_type": "code",
   "execution_count": 83,
   "id": "041727d4-7e9c-425d-923a-bae1d27fb645",
   "metadata": {},
   "outputs": [],
   "source": [
    "itraj = 10\n",
    "train_id=3\n",
    "save_dir = misc_ML.get_training_save_dir(exp_path, total_time, dt, itraj,train_id)\n",
    "loss = np.load(save_dir+\"loss.npy\")\n",
    "params = np.load(save_dir+\"params.npy\")"
   ]
  },
  {
   "cell_type": "code",
   "execution_count": 104,
   "id": "7038bf79-aa69-41b7-94e0-f58a6e136110",
   "metadata": {},
   "outputs": [
    {
     "name": "stderr",
     "output_type": "stream",
     "text": [
      "100%|██████████| 1000/1000 [00:35<00:00, 28.07it/s] \n"
     ]
    }
   ],
   "source": [
    "import numerics.ML.misc as misc_ML\n",
    "import numerics.ML.model as model_ML\n",
    "\n",
    "timms = np.linspace(100, len(times)-1,10).astype(\"int\")\n",
    "ml_params = {}\n",
    "erro = []\n",
    "for itraj in tqdm(trajs):\n",
    "    ml_params[itraj] = []\n",
    "    try:\n",
    "        for train_id,tt in enumerate(timms):\n",
    "            save_dir = misc_ML.get_training_save_dir(exp_path, total_time, dt, itraj,train_id)\n",
    "            loss = np.load(save_dir+\"loss.npy\")\n",
    "            params = np.load(save_dir+\"params.npy\")\n",
    "            ml_params[itraj].append(params[np.argmin(loss)])#\n",
    "    except Exception:\n",
    "        erro.append(itraj)\n",
    "        pass\n",
    "\n",
    "ml_params_ok = []\n",
    "for v in ml_params.values():\n",
    "    if len(v)==10:\n",
    "        ml_params_ok.append(v)\n"
   ]
  },
  {
   "cell_type": "code",
   "execution_count": 114,
   "id": "29db9a8f-3b2c-470c-9014-f8c4ee01bde4",
   "metadata": {},
   "outputs": [],
   "source": [
    "lll =np.nanstd(np.stack(ml_params_ok),axis=0)"
   ]
  },
  {
   "cell_type": "code",
   "execution_count": 115,
   "id": "696a32fb-fe42-40c2-8bb6-0cdd94f281bb",
   "metadata": {},
   "outputs": [
    {
     "name": "stderr",
     "output_type": "stream",
     "text": [
      "/nfs/pic.es/user/m/mbilkis/qenv_bilkis/lib64/python3.6/site-packages/ipykernel_launcher.py:6: RuntimeWarning: divide by zero encountered in true_divide\n",
      "  \n"
     ]
    },
    {
     "data": {
      "image/png": "[encoded data removed]",
      "text/plain": [
       "<Figure size 432x288 with 1 Axes>"
      ]
     },
     "metadata": {
      "needs_background": "light"
     },
     "output_type": "display_data"
    }
   ],
   "source": [
    "ax=plt.subplot()\n",
    "ax.plot([times[k] for k in timms],np.nanmean((np.stack(ml_params_ok) -omega)**2, axis=0  ))\n",
    "ax.plot([times[k] for k in timms],lor,'.')#np.nanmean((np.stack(ml_params_ok) -omega)**2, axis=0  ))\n",
    "ax.plot([times[k] for k in timms],lll,'x')#np.nanmean((np.stack(ml_params_ok) -omega)**2, axis=0  ))\n",
    "ax.plot(times,1/fisher)\n",
    "ax.set_yscale(\"log\")"
   ]
  },
  {
   "cell_type": "code",
   "execution_count": 111,
   "id": "26816099-429b-4972-ad25-979e5d620bab",
   "metadata": {},
   "outputs": [],
   "source": [
    "lor = np.load(\"analysis/lorentzian_dev.npy\")"
   ]
  },
  {
   "cell_type": "code",
   "execution_count": null,
   "id": "07027577-600e-4f4e-8ba4-f90a42fbb724",
   "metadata": {},
   "outputs": [],
   "source": []
  }
 ],
 "metadata": {
  "kernelspec": {
   "display_name": "qenv_bilkis",
   "language": "python",
   "name": "qenv_bilkis"
  },
  "language_info": {
   "codemirror_mode": {
    "name": "ipython",
    "version": 3
   },
   "file_extension": ".py",
   "mimetype": "text/x-python",
   "name": "python",
   "nbconvert_exporter": "python",
   "pygments_lexer": "ipython3",
   "version": "3.6.8"
  }
 },
 "nbformat": 4,
 "nbformat_minor": 5
}
